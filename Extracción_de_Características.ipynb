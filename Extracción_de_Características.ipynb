{
  "nbformat": 4,
  "nbformat_minor": 0,
  "metadata": {
    "colab": {
      "provenance": []
    },
    "kernelspec": {
      "name": "python3",
      "display_name": "Python 3"
    },
    "language_info": {
      "name": "python"
    }
  },
  "cells": [
    {
      "cell_type": "code",
      "execution_count": null,
      "metadata": {
        "id": "6NXxWx1YsYjC"
      },
      "outputs": [],
      "source": [
        "%pip install funpymodeling\n",
        "#Instalamos librería para análisis de variables categóricas"
      ]
    },
    {
      "cell_type": "code",
      "source": [
        "#Importamos librerias requeridas\n",
        "import pandas as pd\n",
        "\n",
        "import numpy as nd\n",
        "\n",
        "import matplotlib.pyplot as plt\n",
        "from funpymodeling.exploratory import freq_tbl"
      ],
      "metadata": {
        "id": "STNew4vnsaEP"
      },
      "execution_count": 3,
      "outputs": []
    },
    {
      "cell_type": "code",
      "source": [
        "#CArgar archivo csv desde el equipo\n",
        "from google.colab import files\n",
        "files.upload()\n",
        "#ARchivo countrytable.csv"
      ],
      "metadata": {
        "id": "yvuV70Fdsb0J"
      },
      "execution_count": null,
      "outputs": []
    },
    {
      "cell_type": "code",
      "source": [
        "#Visualizar las columnas\n",
        "#Ajustar máximo de columnas\n",
        "pd.options.display.max_columns=None\n",
        "pd.options.display.max_rows=None"
      ],
      "metadata": {
        "id": "r5YREl7Isc-G"
      },
      "execution_count": 5,
      "outputs": []
    },
    {
      "cell_type": "code",
      "source": [
        "#Cargar desde un archivo .xlsx sin indice\n",
        "Micro_Retailer= pd.read_excel(\"microretailer_mit_lift_lab.xlsx\")\n",
        "Micro_Retailer"
      ],
      "metadata": {
        "id": "_lFFht4UseYk"
      },
      "execution_count": null,
      "outputs": []
    },
    {
      "cell_type": "code",
      "source": [
        "#Identificar valores nulos por columna\n",
        "valores_nulos=Micro_Retailer.isnull().sum()\n",
        "valores_nulos"
      ],
      "metadata": {
        "id": "C6jkts0useyR"
      },
      "execution_count": null,
      "outputs": []
    },
    {
      "cell_type": "code",
      "source": [
        "#Verificamos informacion del dataframe\n",
        "Micro_Retailer.info()"
      ],
      "metadata": {
        "id": "VCDpqDvQsgDx"
      },
      "execution_count": null,
      "outputs": []
    },
    {
      "cell_type": "code",
      "source": [
        "#Imprimimos las primeras filas o registros del Dataframe\n",
        "Micro_Retailer.head()"
      ],
      "metadata": {
        "id": "KS_hICErsh3M"
      },
      "execution_count": null,
      "outputs": []
    },
    {
      "cell_type": "code",
      "source": [
        "#Obtengo un análisis univariado de las variables categóricas\n",
        "freq_tbl(Micro_Retailer)"
      ],
      "metadata": {
        "id": "nPxe3aXzsjj8"
      },
      "execution_count": null,
      "outputs": []
    },
    {
      "cell_type": "code",
      "source": [
        "#Obtengo un análisis univariado de una variable categórica en específico\n",
        "table1= freq_tbl(Micro_Retailer['214_customer_relationship_tools'])\n",
        "table1"
      ],
      "metadata": {
        "id": "iIM4qczsslcE"
      },
      "execution_count": null,
      "outputs": []
    },
    {
      "cell_type": "code",
      "source": [
        "#Obtengo un filtro de los valores más reelevantes de la variables categórica seleccionada\n",
        "Filtro= table1[table1['frequency']>1]\n",
        "Filtro"
      ],
      "metadata": {
        "id": "St6zYZYNsl8W"
      },
      "execution_count": null,
      "outputs": []
    },
    {
      "cell_type": "code",
      "source": [
        "#Ajusto el indice de mi dataframe\n",
        "Filtro_index= Filtro.set_index('214_customer_relationship_tools')\n",
        "Filtro_index"
      ],
      "metadata": {
        "id": "JhGcyTydsnef"
      },
      "execution_count": null,
      "outputs": []
    },
    {
      "cell_type": "code",
      "source": [
        "#Realizamos grafico de pastel del dataframe filtrado\n",
        "Filtro_index[\"frequency\"].plot(kind='pie', figsize=(10,5), shadow=True, autopct=\"%0.1f %%\")"
      ],
      "metadata": {
        "id": "JzCUWQeisoft"
      },
      "execution_count": null,
      "outputs": []
    },
    {
      "cell_type": "code",
      "source": [
        "#filtro para las vaiables cuantitativas\n",
        "Micro2=Micro_Retailer.iloc[:,[52,53,55,63,64,66,67,68,69,70,71,72,73,74,75,76,77,79,80,81]]#VAIRABLES cuantitativas, columnnas\n",
        "Micro2"
      ],
      "metadata": {
        "id": "TUwPCapo9jCU"
      },
      "execution_count": null,
      "outputs": []
    },
    {
      "cell_type": "code",
      "source": [
        "Micro2.info()"
      ],
      "metadata": {
        "id": "ywOekTbI9jz5"
      },
      "execution_count": null,
      "outputs": []
    },
    {
      "cell_type": "code",
      "source": [
        "#Sustituir valores nulos con promedio o media\n",
        "#Micro2[\"268_number_fridges\"]=Micro2[\"268_number_fridges\"].fillna(round(Micro_Retailer[\"268_number_fridges\"].mean()))\n",
        "\n",
        "#Sustituir valores nulos por un string en  concreto\n",
        "Micro2[\"38_average_margin_profits\"] =Micro2[\"38_average_margin_profits\"].fillna(\"NONE\")#1\n",
        "Micro2[\"193_sales_planning_tools\"] =Micro2[\"193_sales_planning_tools\"].fillna(\"NONE\")#2\n",
        "Micro2[\"60_services\"] =Micro2[\"60_services\"].fillna(\"NONE\")#3\n",
        "Micro2[\"311_topups\"] =Micro2[\"311_topups\"].fillna(\"NONE\")#4\n",
        "Micro2[\"66_percentaje_services_income\"] =Micro2[\"66_percentaje_services_income\"].fillna(\"NONE\")#5\n",
        "Micro2[\"64_comission_services\"] =Micro2[\"64_comission_services\"].fillna(\"NONE\")#6\n",
        "Micro2[\"312_payment_of_utilities\"] =Micro2[\"312_payment_of_utilities\"].fillna(\"NONE\")#7\n",
        "Micro2[\"313_home_deliveries\"] =Micro2[\"313_home_deliveries\"].fillna(\"NONE\")#8\n",
        "Micro2[\"314_reception_delivery_packages\"] =Micro2[\"314_reception_delivery_packages\"].fillna(\"NONE\")#9\n",
        "Micro2[\"42_willingness_share_inventory_data_suppliers\"] =Micro2[\"42_willingness_share_inventory_data_suppliers\"].fillna(\"NONE\")#10\n",
        "Micro2[\"44_willingness_inventory_management_suppliers\"] =Micro2[\"44_willingness_inventory_management_suppliers\"].fillna(\"NONE\")#11\n",
        "Micro2[\"45_willingness_reorder_suppliers\"] =Micro2[\"45_willingness_reorder_suppliers\"].fillna(\"NONE\")#12\n",
        "Micro2[\"46_willingness_reorder_suppliers_variety\"] =Micro2[\"46_willingness_reorder_suppliers_variety\"].fillna(\"NONE\")#13\n",
        "Micro2[\"47_willingness_reorder_suppliers_lower_prices\"] =Micro2[\"47_willingness_reorder_suppliers_lower_prices\"].fillna(\"NONE\")#14\n",
        "Micro2[\"43_willingness_share_sales_data_suppliers\"] =Micro2[\"43_willingness_share_sales_data_suppliers\"].fillna(\"NONE\")#15\n",
        "Micro2[\"58_willingness_share_sales_data_mse\"] =Micro2[\"58_willingness_share_sales_data_mse\"].fillna(\"NONE\")#16\n",
        "Micro2[\"59_willingness_share_sales_data_mse_better_prices\"] =Micro2[\"59_willingness_share_sales_data_mse_better_prices\"].fillna(\"NONE\")#17\n",
        "Micro2[\"185_place_orders_suppliers\"] =Micro2[\"185_place_orders_suppliers\"].fillna(\"NONE\")#18\n",
        "Micro2[\"53_special_conditions_suppliers\"] =Micro2[\"53_special_conditions_suppliers\"].fillna(\"NONE\")#19\n",
        "Micro2[\"278_credit_interest\"] =Micro2[\"278_credit_interest\"].fillna(\"NONE\")#20\n",
        "\n",
        "#data3[\"otros\"]=data3[\"otros\"].fillna(round(data2[\"otros\"].mean()))"
      ],
      "metadata": {
        "id": "yC9Xly5w9n8B"
      },
      "execution_count": null,
      "outputs": []
    },
    {
      "cell_type": "code",
      "source": [
        "#Identificar valores nulos por columna\n",
        "valores_nulosM2=Micro2.isnull().sum()\n",
        "valores_nulosM2"
      ],
      "metadata": {
        "id": "bsgXH_x69qvn"
      },
      "execution_count": null,
      "outputs": []
    },
    {
      "cell_type": "code",
      "source": [
        "table_1= freq_tbl(Micro_Retailer[\"38_average_margin_profits\"])\n",
        "Filtro_1= table_1[table_1[\"frequency\"]>1]\n",
        "Filtro_index_1=Filtro_1.set_index(\"38_average_margin_profits\")\n",
        "Filtro_index_1[\"frequency\"].plot(kind= \"pie\", figsize=(10,5),shadow= True, autopct=\"%0.1f %%\")"
      ],
      "metadata": {
        "id": "TFmfjHTH9ssK"
      },
      "execution_count": null,
      "outputs": []
    },
    {
      "cell_type": "code",
      "source": [
        "table_2= freq_tbl(Micro_Retailer[\"193_sales_planning_tools\"])\n",
        "Filtro_2= table_2[table_2[\"frequency\"]>1]\n",
        "Filtro_index_2=Filtro_2.set_index(\"193_sales_planning_tools\")\n",
        "Filtro_index_2[\"frequency\"].plot(kind= \"pie\", figsize=(10,5),shadow= True, autopct=\"%0.1f %%\")"
      ],
      "metadata": {
        "id": "mvdpmWD09ty7"
      },
      "execution_count": null,
      "outputs": []
    },
    {
      "cell_type": "code",
      "source": [
        "table_3= freq_tbl(Micro_Retailer[\"53_special_conditions_suppliers\"])\n",
        "Filtro_3= table_3[table_3[\"frequency\"]>1]\n",
        "Filtro_index_3=Filtro_3.set_index(\"53_special_conditions_suppliers\")\n",
        "Filtro_index_3[\"frequency\"].plot(kind= \"pie\", figsize=(10,5),shadow= True, autopct=\"%0.1f %%\")"
      ],
      "metadata": {
        "id": "uL4CGoXs9uys"
      },
      "execution_count": null,
      "outputs": []
    },
    {
      "cell_type": "code",
      "source": [
        "table_4= freq_tbl(Micro_Retailer[\"60_services\"])\n",
        "Filtro_4= table_4[table_4[\"frequency\"]>1]\n",
        "Filtro_index_4=Filtro_4.set_index(\"60_services\")\n",
        "Filtro_index_4[\"frequency\"].plot(kind= \"pie\", figsize=(10,5),shadow= True, autopct=\"%0.1f %%\")"
      ],
      "metadata": {
        "id": "g6UBz7Gh9vyN"
      },
      "execution_count": null,
      "outputs": []
    },
    {
      "cell_type": "code",
      "source": [
        "table_5= freq_tbl(Micro_Retailer[\"64_comission_services\"])\n",
        "Filtro_5= table_5[table_5[\"frequency\"]>1]\n",
        "Filtro_index_5=Filtro_5.set_index(\"64_comission_services\")\n",
        "Filtro_index_5[\"frequency\"].plot(kind= \"pie\", figsize=(10,5),shadow= True, autopct=\"%0.1f %%\")"
      ],
      "metadata": {
        "id": "Fgtz7qrm9wql"
      },
      "execution_count": null,
      "outputs": []
    },
    {
      "cell_type": "code",
      "source": [
        "table_6= freq_tbl(Micro_Retailer[\"278_credit_interest\"])\n",
        "Filtro_6= table_6[table_6[\"frequency\"]>1]\n",
        "Filtro_index_6=Filtro_6.set_index(\"278_credit_interest\")\n",
        "Filtro_index_6[\"frequency\"].plot(kind= \"pie\", figsize=(10,5),shadow= True, autopct=\"%0.1f %%\")"
      ],
      "metadata": {
        "id": "QPoyposC9xk-"
      },
      "execution_count": null,
      "outputs": []
    },
    {
      "cell_type": "code",
      "source": [
        "table_7= freq_tbl(Micro_Retailer[\"69_why_not_services\"])\n",
        "Filtro_7= table_7[table_7[\"frequency\"]>1]\n",
        "Filtro_index_7=Filtro_7.set_index(\"69_why_not_services\")\n",
        "Filtro_index_7[\"frequency\"].plot(kind= \"pie\", figsize=(10,5),shadow= True, autopct=\"%0.1f %%\")"
      ],
      "metadata": {
        "id": "jKfkQEuW9y5d"
      },
      "execution_count": null,
      "outputs": []
    },
    {
      "cell_type": "code",
      "source": [
        "table_8= freq_tbl(Micro_Retailer[\"311_topups\"])\n",
        "Filtro_8= table_8[table_8[\"frequency\"]>1]\n",
        "Filtro_index_8=Filtro_8.set_index(\"311_topups\")\n",
        "Filtro_index_8[\"frequency\"].plot(kind= \"pie\", figsize=(10,5),shadow= True, autopct=\"%0.1f %%\")"
      ],
      "metadata": {
        "id": "UANIapRp9z0H"
      },
      "execution_count": null,
      "outputs": []
    },
    {
      "cell_type": "code",
      "source": [
        "table_9= freq_tbl(Micro_Retailer[\"312_payment_of_utilities\"])\n",
        "Filtro_9= table_9[table_9[\"frequency\"]>1]\n",
        "Filtro_index_9=Filtro_9.set_index(\"312_payment_of_utilities\")\n",
        "Filtro_index_9[\"frequency\"].plot(kind= \"pie\", figsize=(10,5),shadow= True, autopct=\"%0.1f %%\")"
      ],
      "metadata": {
        "id": "Mbsnmmji90lr"
      },
      "execution_count": null,
      "outputs": []
    },
    {
      "cell_type": "code",
      "source": [
        "table_10= freq_tbl(Micro_Retailer[\"313_home_deliveries\"])\n",
        "Filtro_10= table_10[table_10[\"frequency\"]>1]\n",
        "Filtro_index_10=Filtro_10.set_index(\"313_home_deliveries\")\n",
        "Filtro_index_10[\"frequency\"].plot(kind= \"pie\", figsize=(10,5),shadow= True, autopct=\"%0.1f %%\")"
      ],
      "metadata": {
        "id": "YuQ503uA92TO"
      },
      "execution_count": null,
      "outputs": []
    },
    {
      "cell_type": "code",
      "source": [
        "table_11= freq_tbl(Micro_Retailer[\"314_reception_delivery_packages\"])\n",
        "Filtro_11= table_11[table_11[\"frequency\"]>1]\n",
        "Filtro_index_11=Filtro_11.set_index(\"314_reception_delivery_packages\")\n",
        "Filtro_index_11[\"frequency\"].plot(kind= \"pie\", figsize=(10,5),shadow= True, autopct=\"%0.1f %%\")"
      ],
      "metadata": {
        "id": "vkV7Shji93uk"
      },
      "execution_count": null,
      "outputs": []
    },
    {
      "cell_type": "code",
      "source": [
        "table_12= freq_tbl(Micro_Retailer[\"42_willingness_share_inventory_data_suppliers\"])\n",
        "Filtro_12= table_12[table_12[\"frequency\"]>1]\n",
        "Filtro_index_12=Filtro_12.set_index(\"42_willingness_share_inventory_data_suppliers\")\n",
        "Filtro_index_12[\"frequency\"].plot(kind= \"pie\", figsize=(10,5),shadow= True, autopct=\"%0.1f %%\")"
      ],
      "metadata": {
        "id": "qPjm4hhy95go"
      },
      "execution_count": null,
      "outputs": []
    },
    {
      "cell_type": "code",
      "source": [
        "table_13= freq_tbl(Micro_Retailer[\"44_willingness_inventory_management_suppliers\"])\n",
        "Filtro_13= table_13[table_13[\"frequency\"]>1]\n",
        "Filtro_index_13=Filtro_13.set_index(\"44_willingness_inventory_management_suppliers\")\n",
        "Filtro_index_13[\"frequency\"].plot(kind= \"pie\", figsize=(10,5),shadow= True, autopct=\"%0.1f %%\")"
      ],
      "metadata": {
        "id": "SE6RDUm896jd"
      },
      "execution_count": null,
      "outputs": []
    },
    {
      "cell_type": "code",
      "source": [
        "table_14= freq_tbl(Micro_Retailer[\"45_willingness_reorder_suppliers\"])\n",
        "Filtro_14= table_14[table_14[\"frequency\"]>1]\n",
        "Filtro_index_14=Filtro_14.set_index(\"45_willingness_reorder_suppliers\")\n",
        "Filtro_index_14[\"frequency\"].plot(kind= \"pie\", figsize=(10,5),shadow= True, autopct=\"%0.1f %%\")"
      ],
      "metadata": {
        "id": "TOzH8ia_9730"
      },
      "execution_count": null,
      "outputs": []
    },
    {
      "cell_type": "code",
      "source": [
        "table_15= freq_tbl(Micro_Retailer[\"46_willingness_reorder_suppliers_variety\"])\n",
        "Filtro_15= table_15[table_15[\"frequency\"]>1]\n",
        "Filtro_index_15=Filtro_15.set_index(\"46_willingness_reorder_suppliers_variety\")\n",
        "Filtro_index_15[\"frequency\"].plot(kind= \"pie\", figsize=(10,5),shadow= True, autopct=\"%0.1f %%\")"
      ],
      "metadata": {
        "id": "pEQ5Rhf-98zM"
      },
      "execution_count": null,
      "outputs": []
    },
    {
      "cell_type": "code",
      "source": [
        "table_16= freq_tbl(Micro_Retailer[\"47_willingness_reorder_suppliers_lower_prices\"])\n",
        "Filtro_16= table_16[table_16[\"frequency\"]>1]\n",
        "Filtro_index_16=Filtro_16.set_index(\"47_willingness_reorder_suppliers_lower_prices\")\n",
        "Filtro_index_16[\"frequency\"].plot(kind= \"pie\", figsize=(10,5),shadow= True, autopct=\"%0.1f %%\")"
      ],
      "metadata": {
        "id": "lrZaZ-Cs999H"
      },
      "execution_count": null,
      "outputs": []
    },
    {
      "cell_type": "code",
      "source": [
        "table_17= freq_tbl(Micro_Retailer[\"43_willingness_share_sales_data_suppliers\"])\n",
        "Filtro_17= table_17[table_17[\"frequency\"]>1]\n",
        "Filtro_index_17=Filtro_17.set_index(\"43_willingness_share_sales_data_suppliers\")\n",
        "Filtro_index_17[\"frequency\"].plot(kind= \"pie\", figsize=(10,5),shadow= True, autopct=\"%0.1f %%\")"
      ],
      "metadata": {
        "id": "V3M3Gd659_An"
      },
      "execution_count": null,
      "outputs": []
    },
    {
      "cell_type": "code",
      "source": [
        "table_18= freq_tbl(Micro_Retailer[\"58_willingness_share_sales_data_mse\"])\n",
        "Filtro_18= table_18[table_18[\"frequency\"]>1]\n",
        "Filtro_index_18=Filtro_18.set_index(\"58_willingness_share_sales_data_mse\")\n",
        "Filtro_index_18[\"frequency\"].plot(kind= \"pie\", figsize=(10,5),shadow= True, autopct=\"%0.1f %%\")"
      ],
      "metadata": {
        "id": "Vd0OptlW9_8R"
      },
      "execution_count": null,
      "outputs": []
    },
    {
      "cell_type": "code",
      "source": [
        "table_19= freq_tbl(Micro_Retailer[\"59_willingness_share_sales_data_mse_better_prices\"])\n",
        "Filtro_19= table_19[table_19[\"frequency\"]>1]\n",
        "Filtro_index_19=Filtro_19.set_index(\"59_willingness_share_sales_data_mse_better_prices\")\n",
        "Filtro_index_19[\"frequency\"].plot(kind= \"pie\", figsize=(10,5),shadow= True, autopct=\"%0.1f %%\")"
      ],
      "metadata": {
        "id": "e8h_NgAb-BHF"
      },
      "execution_count": null,
      "outputs": []
    },
    {
      "cell_type": "code",
      "source": [
        "table_20= freq_tbl(Micro_Retailer[\"185_place_orders_suppliers\"])\n",
        "Filtro_20= table_20[table_20[\"frequency\"]>1]\n",
        "Filtro_index_20=Filtro_20.set_index(\"185_place_orders_suppliers\")\n",
        "Filtro_index_20[\"frequency\"].plot(kind= \"pie\", figsize=(10,5),shadow= True, autopct=\"%0.1f %%\")"
      ],
      "metadata": {
        "id": "KZ3CMxyC-Clg"
      },
      "execution_count": null,
      "outputs": []
    },
    {
      "cell_type": "code",
      "source": [
        "#Obtengo un analisis univariado de las variables categoricas, una slecionada\n",
        "#Obtengo un analisis univariado de las variables categoricas, una en especifico\n",
        "table_7= freq_tbl(Micro_Retailer[\"\"])\n",
        "Filtro_7= table_7[table_7[\"frequency\"]>1] #Seleccionamos los valores mayores a 1 para que no haya exceso de datos, ya que es solo muestra\n",
        "Filtro_index_7=Filtro_7.set_index(\"\")#ajustamos esta columna como una de tipo indice\n",
        "#Filtro_index_7\n",
        "#Realizamos le pastel del Dataframe filtrado\n",
        "Filtro_index_7[\"frequency\"].plot(kind= \"pie\", figsize=(10,5),shadow= True, autopct=\"%0.1f %%\")#Ajusto indice de mi DATAFRAME\n",
        "Filtro_index=Filtro1.set_index(\"214_customer_relationship_tools\")#ajustamos esta columna como una de tipo indice\n",
        "Filtro_index\n",
        "#Realizamos grafico de barras del dataframe filtrado\n",
        "Filtro_index.plot(kind= \"bar\", width=1, figsize=(10,4))\n",
        "plt.title(\"Herramientas de relación con los clientes\")\n",
        "plt.xlabel(\"Tipo de herramienta\")\n",
        "plt.ylabel(\"Frecuencia\")\n",
        "#Realizamos el grafico de dispersion\n",
        "Filtro_index.plot(\"frequency\", \"cumulative_perc\", kind= \"scatter\")\n",
        "#Realizamos el grafico de area del Dataframe filtrado\n",
        "Filtro_index.plot(kind= \"area\", figsize=(10,4), alpha=0.5)\n",
        "#Realizamos le pastel del Dataframe filtrado\n",
        "Filtro_index[\"frequency\"].plot(kind= \"pie\", figsize=(10,5),shadow= True, autopct=\"%0.1f %%\")\n"
      ],
      "metadata": {
        "id": "weXdw6hj-EEH"
      },
      "execution_count": null,
      "outputs": []
    }
  ]
}